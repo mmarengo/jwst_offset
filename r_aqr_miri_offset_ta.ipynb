{
 "cells": [
  {
   "cell_type": "markdown",
   "metadata": {},
   "source": [
    "# R Aqr JWST MIRI coronagraph offset\n",
    "Calculations of X,Y offset for R Aqr offset target acquisition\n",
    "for MIRI coronagraph."
   ]
  },
  {
   "cell_type": "code",
   "execution_count": 1,
   "metadata": {},
   "outputs": [],
   "source": [
    "# Set up autoloader\n",
    "%load_ext autoreload\n",
    "%autoreload 2"
   ]
  },
  {
   "cell_type": "code",
   "execution_count": 2,
   "metadata": {},
   "outputs": [
    {
     "name": "stderr",
     "output_type": "stream",
     "text": [
      "Matplotlib is building the font cache; this may take a moment.\n"
     ]
    }
   ],
   "source": [
    "# Set up modules and stuff\n",
    "import numpy as np\n",
    "import astropy.units as u\n",
    "import compute_offsets as coff\n",
    "from astropy.time import Time\n",
    "from astropy.coordinates import SkyCoord, Distance"
   ]
  },
  {
   "cell_type": "markdown",
   "metadata": {},
   "source": [
    "## JWST Parameters\n",
    "This is the date range for the scheduled JWST observation, and camera configuration."
   ]
  },
  {
   "cell_type": "code",
   "execution_count": 3,
   "metadata": {},
   "outputs": [],
   "source": [
    "# JWST PA angle of the telescope V3 axis at time of observation\n",
    "V3PA_TIME1 = 320.074 # V3PA at the beginning of JWST observing window\n",
    "V3PA_TIME2 = 320.074 # V3PA at the end of JWST observing window\n",
    "\n",
    "# Coronographic mask ids\n",
    "CORON_ID_A = '1140' # ID for first coronagraphic observation\n",
    "CORON_ID_B = '1550' # ID for second coronagraphic observation"
   ]
  },
  {
   "cell_type": "code",
   "execution_count": 4,
   "metadata": {},
   "outputs": [],
   "source": [
    "# JWST dates and times\n",
    "JWST_TIME1 = '2024-10-30T18:19:00.000'    # Beginning of JWST observing window\n",
    "JWST_TIME2 = '2024-12-12T00:19:55.000'    # Beginning of JWST observing window\n",
    "\n",
    "# Create Time-like objects with the JWST times\n",
    "jwst_time1 = Time(JWST_TIME1, format='isot', scale='utc')\n",
    "jwst_time2 = Time(JWST_TIME2, format='isot', scale='utc')"
   ]
  },
  {
   "cell_type": "markdown",
   "metadata": {},
   "source": [
    "## Reference coordinates for R Aqr and offset star\n",
    "We provide the most recent set of coordinates and proper motion for R Aqr based on our VLBI observations. The acquisition star coordinates are from Gaia DR3."
   ]
  },
  {
   "cell_type": "code",
   "execution_count": 7,
   "metadata": {},
   "outputs": [],
   "source": [
    "# R Aqr VLBI coordinates and proper motion\n",
    "RA = '23:43:49.50785 hours'     # RA in sexagesimal format (ICRS)\n",
    "DEC = '-15:17:04.911 degrees'   # DEC in sexagesimal format (ICRS) \n",
    "PMRA = 27.33                    # Proper motion in RA (mas/yr)\n",
    "PMDEC = -30.37                  # Proper motion in DEC (mas/yr)\n",
    "#PARALLAX = 2.5931              # Gaia DR3 Parallax (mas)\n",
    "PARALLAX = 4.59                 # Adriantsaralaza et al. 2022 parallax (mas)\n",
    "OBS_DATE = '2024-04-07'         # Observation date\n",
    "EPOCH = 2000.0                  # Reference epoch\n",
    "FRAME = 'icrs'                  # Coordinate frame\n",
    "\n",
    "# Create Skycoord object with the given coordinates\n",
    "r_aqr2 = SkyCoord(RA,\n",
    "                  DEC,\n",
    "                  pm_ra_cosdec=PMRA*u.mas/u.yr,\n",
    "                  pm_dec=PMDEC*u.mas/u.yr,\n",
    "                  distance=Distance(parallax=PARALLAX*u.mas),\n",
    "                  equinox=Time(EPOCH, format='jyear'),\n",
    "                  obstime=Time(OBS_DATE, format='iso', scale='utc'),\n",
    "                  frame=FRAME\n",
    "                 )"
   ]
  },
  {
   "cell_type": "code",
   "execution_count": 8,
   "metadata": {},
   "outputs": [],
   "source": [
    "# Gaia DR3 2419576255768131328 coordinates\n",
    "RA = '355.9498781532638 degrees'     # RA in decimal degrees (ICRS)\n",
    "DEC = '-15.283947951921947 degrees'  # DEC in decimal degrees (ICRS) \n",
    "PMRA = 20.269224605443817            # Proper motion in RA (mas/yr)\n",
    "PMDEC = -11.812614959581758          # Proper motion in DEC (mas/yr)\n",
    "PARALLAX = 3.7063351210713535        # Gaia DR3 Parallax (mas)\n",
    "OBS_DATE = 2016.0                    # Observation date\n",
    "EPOCH = 2016.0                       # Reference epoch\n",
    "FRAME = 'icrs'                       # Coordinate frame\n",
    "\n",
    "# Create Skycoord object with the given coordinates\n",
    "acqt = SkyCoord(RA,\n",
    "                DEC,\n",
    "                pm_ra_cosdec=PMRA*u.mas/u.yr,\n",
    "                pm_dec=PMDEC*u.mas/u.yr,\n",
    "                distance=Distance(parallax=PARALLAX*u.mas),\n",
    "                equinox=Time(EPOCH, format='jyear'),\n",
    "                obstime=Time(OBS_DATE, format='jyear', scale='tcb'),\n",
    "                frame=FRAME\n",
    "            )"
   ]
  }
 ],
 "metadata": {
  "kernelspec": {
   "display_name": "JWSToff",
   "language": "python",
   "name": "python3"
  },
  "language_info": {
   "codemirror_mode": {
    "name": "ipython",
    "version": 3
   },
   "file_extension": ".py",
   "mimetype": "text/x-python",
   "name": "python",
   "nbconvert_exporter": "python",
   "pygments_lexer": "ipython3",
   "version": "3.9.19"
  }
 },
 "nbformat": 4,
 "nbformat_minor": 2
}
