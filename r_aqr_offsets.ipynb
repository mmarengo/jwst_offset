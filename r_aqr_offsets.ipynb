{
 "cells": [
  {
   "cell_type": "markdown",
   "metadata": {},
   "source": [
    "# R Aqr offsets calculations\n",
    "Calculate x, y offsets for R Aqr target acquisition."
   ]
  },
  {
   "cell_type": "code",
   "execution_count": 1,
   "metadata": {},
   "outputs": [],
   "source": [
    "# Set up autoloader\n",
    "%load_ext autoreload\n",
    "%autoreload 2"
   ]
  },
  {
   "cell_type": "code",
   "execution_count": 178,
   "metadata": {},
   "outputs": [],
   "source": [
    "# Set up modules and stuff\n",
    "import numpy as np\n",
    "import astropy.units as u\n",
    "from astropy.time import Time\n",
    "from astropy.coordinates import SkyCoord, Distance"
   ]
  },
  {
   "cell_type": "markdown",
   "metadata": {},
   "source": [
    "## Date range for JWST observation\n",
    "This is the date range for the scheduled JWST observation"
   ]
  },
  {
   "cell_type": "code",
   "execution_count": 179,
   "metadata": {},
   "outputs": [],
   "source": [
    "# JWST dates and times\n",
    "JWST_TIME1 = '2024-10-30T18:19:00.000'    # Beginning of JWST observing window\n",
    "JWST_TIME2 = '2024-12-12T00:19:55.000'    # Beginning of JWST observing window\n",
    "JWST_TIME = '2024-11-06T18:19:00.000'     # Schediuled time JWST time\n",
    "\n",
    "# Create Time-like objects with the JWST times\n",
    "jwst_time1 = Time(JWST_TIME1, format='isot', scale='utc')\n",
    "jwst_time2 = Time(JWST_TIME2, format='isot', scale='utc')\n",
    "jwst_time = Time(JWST_TIME, format='isot', scale='utc')"
   ]
  },
  {
   "cell_type": "markdown",
   "metadata": {},
   "source": [
    "## Reference coordinates for R Aqr and offset star\n",
    "We provide two sets of coordinates for R Aqr (since the target had been observed twice), and the Gaia DR3 Coodinates of the offset star. The most recent set is the one actually used to calculate the updated coordinates at the time of the JWST observation. The earlier set of coordinates is used to test that the routine work properly (by using them as reference coordinates and checking that the result matches)."
   ]
  },
  {
   "cell_type": "code",
   "execution_count": 180,
   "metadata": {},
   "outputs": [],
   "source": [
    "# R Aqr coordinates set 1\n",
    "RA = '23:43:49.50120 hours'     # RA in sexagesimal format (ICRS)\n",
    "DEC = '-15:17:04.804 degrees'   # DEC in sexagesimal format (ICRS) \n",
    "PMRA = 27.33                    # Proper motion in RA (mas/yr)\n",
    "PMDEC = -30.37                  # Proper motion in DEC (mas/yr)\n",
    "#PARALLAX = 2.5931              # Gaia DR3 Parallax (mas)\n",
    "PARALLAX = 4.59                 # Adriantsaralaza et al. 2022 parallax (mas)\n",
    "OBS_DATE1 = '2020-10-01'        # Observation date\n",
    "EPOCH = 2000.0                  # Reference epoch\n",
    "FRAME = 'icrs'                  # Coordinate frame\n",
    "\n",
    "# Create Skycoord object with the given coordinates\n",
    "r_aqr1 = SkyCoord(RA,\n",
    "                  DEC,\n",
    "                  pm_ra_cosdec=PMRA*u.mas/u.yr,\n",
    "                  pm_dec=PMDEC*u.mas/u.yr,\n",
    "                  distance=Distance(parallax=PARALLAX*u.mas),\n",
    "                  equinox=Time(EPOCH, format='jyear'),\n",
    "                  obstime=Time(OBS_DATE1, format='iso', scale='utc'),\n",
    "                  frame=FRAME\n",
    "                 )"
   ]
  },
  {
   "cell_type": "code",
   "execution_count": 181,
   "metadata": {},
   "outputs": [],
   "source": [
    "# R Aqr coordinates set 2\n",
    "RA = '23:43:49.50785 hours'     # RA in sexagesimal format (ICRS)\n",
    "DEC = '-15:17:04.911 degrees'   # DEC in sexagesimal format (ICRS) \n",
    "PMRA = 27.33                    # Proper motion in RA (mas/yr)\n",
    "PMDEC = -30.37                  # Proper motion in DEC (mas/yr)\n",
    "#PARALLAX = 2.5931              # Gaia DR3 Parallax (mas)\n",
    "PARALLAX = 4.59                 # Adriantsaralaza et al. 2022 parallax (mas)\n",
    "OBS_DATE2 = '2024-04-07'        # Observation date\n",
    "EPOCH = 2000.0                  # Reference epoch\n",
    "FRAME = 'icrs'                  # Coordinate frame\n",
    "\n",
    "# Create Skycoord object with the given coordinates\n",
    "r_aqr2 = SkyCoord(RA,\n",
    "                  DEC,\n",
    "                  pm_ra_cosdec=PMRA*u.mas/u.yr,\n",
    "                  pm_dec=PMDEC*u.mas/u.yr,\n",
    "                  distance=Distance(parallax=PARALLAX*u.mas),\n",
    "                  equinox=Time(EPOCH, format='jyear'),\n",
    "                  obstime=Time(OBS_DATE2, format='iso', scale='utc'),\n",
    "                  frame=FRAME\n",
    "                 )"
   ]
  },
  {
   "cell_type": "code",
   "execution_count": 182,
   "metadata": {},
   "outputs": [
    {
     "name": "stdout",
     "output_type": "stream",
     "text": [
      "--> Offset between R_Aqr1 and R_Aqr2 coordinates:\n",
      "--> Total offset:   0.143901 arcsec\n",
      "--> Position angle: 138.0360 deg\n"
     ]
    }
   ],
   "source": [
    "# Print total and PA of offset between the two sets of coordinates\n",
    "tot_offset = r_aqr1.separation(r_aqr2).to(u.arcsec)\n",
    "pa_offset = r_aqr1.position_angle(r_aqr2).to(u.deg)\n",
    "print('--> Offset between R_Aqr1 and R_Aqr2 coordinates:')\n",
    "print(f'--> Total offset:   {tot_offset:.6f}')\n",
    "print(f'--> Position angle: {pa_offset:.4f}')"
   ]
  },
  {
   "cell_type": "code",
   "execution_count": 183,
   "metadata": {},
   "outputs": [],
   "source": [
    "# Gaia DR3 2419576423272148480 coordinates\n",
    "RA = '355.94560363551375 degrees'    # RA in decimal degrees (ICRS)\n",
    "DEC = '-15.274577751934695 degrees'  # DEC in decimal degrees (ICRS) \n",
    "PMRA = -2.708690975158548            # Proper motion in RA (mas/yr)\n",
    "PMDEC = -4.0809858570655875          # Proper motion in DEC (mas/yr)\n",
    "OBS_DATE = 2016.0                    # Observation date\n",
    "EPOCH = 2016.0                       # Reference epoch\n",
    "FRAME = 'icrs'                       # Coordinate frame\n",
    "\n",
    "# Create Skycoord object with the given coordinates\n",
    "acqt = SkyCoord(RA,\n",
    "                DEC,\n",
    "                pm_ra_cosdec=PMRA*u.mas/u.yr,\n",
    "                pm_dec=PMDEC*u.mas/u.yr,\n",
    "                equinox=Time(EPOCH, format='jyear'),\n",
    "                obstime=Time(OBS_DATE, format='jyear', scale='tcb'),\n",
    "                frame=FRAME\n",
    "            )"
   ]
  },
  {
   "cell_type": "code",
   "execution_count": 184,
   "metadata": {},
   "outputs": [
    {
     "name": "stdout",
     "output_type": "stream",
     "text": [
      "--> Offset between R Aqr1 and acquisition target:\n",
      "\n",
      "--> Total Offset (with R Aqr 1):   51.842649 arcsec\n",
      "--> Position angle (with R Aqr 1): 314.4786 deg\n",
      "\n",
      "--> Total Offset (with R Aqr 2):   51.986274 arcsec\n",
      "--> Position angle (with R Aqr 2): 314.4884 deg\n"
     ]
    }
   ],
   "source": [
    "# Print offset between R Aqr and acquisition star\n",
    "# Based on their nominal coordinates (position 1)\n",
    "offset1 = r_aqr1.separation(acqt).to(u.arcsec)\n",
    "pa_offset1 = r_aqr1.position_angle(acqt).to(u.deg)\n",
    "print('--> Offset between R Aqr1 and acquisition target:')\n",
    "print()\n",
    "print(f'--> Total Offset (with R Aqr 1):   {offset1:.6f}')\n",
    "print(f'--> Position angle (with R Aqr 1): {pa_offset1:.4f}')\n",
    "print()\n",
    "\n",
    "# Print offset between R Aqr and Gaia DR3 2419576423272148480\n",
    "# Based on their nominal coordinates (position 2)\n",
    "offset2 = r_aqr2.separation(acqt).to(u.arcsec)\n",
    "pa_offset2 = r_aqr2.position_angle(acqt).to(u.deg)\n",
    "print(f'--> Total Offset (with R Aqr 2):   {offset2:.6f}')\n",
    "print(f'--> Position angle (with R Aqr 2): {pa_offset2:.4f}')\n"
   ]
  },
  {
   "cell_type": "markdown",
   "metadata": {},
   "source": [
    "## Update coordinates for R Aqr and acquisition star\n",
    "Update position of R Aqr and acquisition star to initial and final date of observing window. Use the apply_space_motion() method of the SkyCoord package. Calculate also position of R Aqr at the time of the second observation based on the position in the first observation, as a sanity check."
   ]
  },
  {
   "cell_type": "code",
   "execution_count": 185,
   "metadata": {},
   "outputs": [
    {
     "name": "stdout",
     "output_type": "stream",
     "text": [
      "--> Offset between R Aqr 2 and R Aqr at JWST time:\n",
      "--> Total Offset:   23.911 mas\n",
      "--> Position angle: 138.02 deg\n"
     ]
    }
   ],
   "source": [
    "# Update latest coordinates of R Aqr to beggining of JWST observing window\n",
    "r_aqr2_time1 = r_aqr2.apply_space_motion(new_obstime=jwst_time1)\n",
    "\n",
    "# Update latest coordinates of R Aqr to the end of JWST observing window\n",
    "r_aqr2_time2 = r_aqr2.apply_space_motion(new_obstime=jwst_time2)\n",
    "\n",
    "# Update latest coordinates of R Aqr to the scheduled JWST time\n",
    "r_aqr2_time = r_aqr2.apply_space_motion(new_obstime=jwst_time)\n",
    "\n",
    "# Print offset between original and updated coordinates of R Aqr (JWST time)\n",
    "offset_jwst = r_aqr2.separation(r_aqr2_time).to(u.mas)\n",
    "pa_offset_jwst = r_aqr2.position_angle(r_aqr2_time).to(u.deg)\n",
    "print('--> Offset between R Aqr 2 and R Aqr at JWST time:')\n",
    "print(f'--> Total Offset:   {offset_jwst:.3f}')\n",
    "print(f'--> Position angle: {pa_offset_jwst:.2f}')"
   ]
  },
  {
   "cell_type": "code",
   "execution_count": 186,
   "metadata": {},
   "outputs": [
    {
     "name": "stdout",
     "output_type": "stream",
     "text": [
      "--> Offset between the first and second set of R Aqr coordinates\n",
      "--> at the time of the second set of coordinates: \n",
      "--> Total offset: 0.278 mas\n",
      "--> Note: that the result should be as close as possible to zero <---\n"
     ]
    }
   ],
   "source": [
    "# Calculate the offset between the two sets of coordinates\n",
    "# with the first set updated to the time of the second set.\n",
    "# This is just a sanity check to see if the offset is close to zero.\n",
    "r_aqr1_to2 = r_aqr1.apply_space_motion(new_obstime=r_aqr2.obstime)\n",
    "offset = r_aqr1_to2.separation(r_aqr2).to(u.mas)\n",
    "print(\"--> Offset between the first and second set of R Aqr coordinates\")\n",
    "print(\"--> at the time of the second set of coordinates: \")\n",
    "print(f'--> Total offset: {offset:.3f}')\n",
    "print(\"--> Note: that the result should be as close as possible to zero <---\")"
   ]
  },
  {
   "cell_type": "code",
   "execution_count": 190,
   "metadata": {},
   "outputs": [
    {
     "name": "stdout",
     "output_type": "stream",
     "text": [
      "--> Offset between acquisition star (Gaia and JWST time):\n",
      "--> Total Offset:   43.346 mas\n",
      "--> Position angle: 213.57 deg\n"
     ]
    }
   ],
   "source": [
    "# Update acquisition target coordinates to beggining of JWST observing window\n",
    "acqt_time1 = acqt.apply_space_motion(new_obstime=jwst_time1)\n",
    "\n",
    "# Update acquisition target coordinates to end of JWST observing window\n",
    "acqt_time2 = acqt.apply_space_motion(new_obstime=jwst_time2)\n",
    "\n",
    "# Update acquisition target coordinates to scheduled JWST time\n",
    "acqt_time = acqt.apply_space_motion(new_obstime=jwst_time)\n",
    "\n",
    "# Print offset between original and updated coordinates\n",
    "# of acquisition star (at JWST time)\n",
    "offset_time = acqt.separation(acqt_time).to(u.mas)\n",
    "pa_offset_time = acqt.position_angle(acqt_time).to(u.deg)\n",
    "print('--> Offset between acquisition star (Gaia and JWST time):')\n",
    "print(f'--> Total Offset:   {offset_time:.3f}')\n",
    "print(f'--> Position angle: {pa_offset_time:.2f}')"
   ]
  },
  {
   "cell_type": "markdown",
   "metadata": {},
   "source": [
    "## Calculate offset between acquisition star and R Aqr\n",
    "The offset is calculated in RA, DEC (ICRS) for the epocs of observation. The total offset and PA angle is also calculated. Note that this is not the offset to use in APT because that requires an X & Y offset. It is not clear at this point how the RA, DEC offset is converted in the X & Y offset.\n",
    "\n",
    "It is to be checked with STScI if the X & Y offset can be obtained by rotating the RA, DEC offset with the PA of the detector at the observation time, centered on the acquisition target."
   ]
  },
  {
   "cell_type": "code",
   "execution_count": 191,
   "metadata": {},
   "outputs": [
    {
     "name": "stdout",
     "output_type": "stream",
     "text": [
      "--> Offset between R Aqr 2 and acquisition star at JWST time.\n",
      "--> The (positive) position angle of the vector pointing from the\n",
      "--> acquisition star to R Aqr, measured East from North. \n",
      "--> Total Offset:   52.001 arcsec\n",
      "--> Position angle: 134.45 deg\n"
     ]
    }
   ],
   "source": [
    "# Calculate offset for the beginning of the JWST observing window\n",
    "#r_aqr2_time1_tr = r_aqr2_time1.transform_to(acqt_time1.frame)\n",
    "#(delta_ra, delta_dec) = acqt_time1.spherical_offsets_to(r_aqr2_time1_tr)\n",
    "#print(delta_ra.to(u.arcsec), delta_dec.to(u.arcsec))\n",
    "offset = acqt_time1.separation(r_aqr2_time1).to(u.arcsec)\n",
    "pa_offset = acqt_time1.position_angle(r_aqr2_time1).to(u.deg)\n",
    "print('--> Offset between R Aqr 2 and acquisition star at JWST time.')\n",
    "print(\"--> The (positive) position angle of the vector pointing from the\")\n",
    "print(\"--> acquisition star to R Aqr, measured East from North. \")\n",
    "print(f'--> Total Offset:   {offset:.3f}')\n",
    "print(f'--> Position angle: {pa_offset:.2f}')"
   ]
  }
 ],
 "metadata": {
  "kernelspec": {
   "display_name": "Astro",
   "language": "python",
   "name": "python3"
  },
  "language_info": {
   "codemirror_mode": {
    "name": "ipython",
    "version": 3
   },
   "file_extension": ".py",
   "mimetype": "text/x-python",
   "name": "python",
   "nbconvert_exporter": "python",
   "pygments_lexer": "ipython3",
   "version": "3.11.9"
  }
 },
 "nbformat": 4,
 "nbformat_minor": 2
}
