{
 "cells": [
  {
   "cell_type": "markdown",
   "metadata": {},
   "source": [
    "# R Aqr offsets calculations\n",
    "Calculate x, y offsets for R Aqr target acquisition."
   ]
  },
  {
   "cell_type": "code",
   "execution_count": 1,
   "metadata": {},
   "outputs": [],
   "source": [
    "# Set up autoloader\n",
    "%load_ext autoreload\n",
    "%autoreload 2"
   ]
  },
  {
   "cell_type": "code",
   "execution_count": 30,
   "metadata": {},
   "outputs": [],
   "source": [
    "# Set up modules and stuff\n",
    "import numpy as np\n",
    "import astropy.units as u\n",
    "from astropy.time import Time\n",
    "from astropy.coordinates import SkyCoord, Distance"
   ]
  },
  {
   "cell_type": "markdown",
   "metadata": {},
   "source": [
    "## Date range for JWST observation\n",
    "This is the date range for the scheduled JWST observation"
   ]
  },
  {
   "cell_type": "code",
   "execution_count": 47,
   "metadata": {},
   "outputs": [],
   "source": [
    "# JWST dates and times\n",
    "JWST_TIME1 = '2024-10-30T18:19:00.000'    # Beginning of JWST observing window\n",
    "JWST_TIME2 = '2024-12-12T00:19:55.000'    # Beginning of JWST observing window\n",
    "JWST_TIME = '2024-11-06T18:19:00.000'     # Schediuled time JWST time\n",
    "\n",
    "# Create Time-like objects with the JWST times\n",
    "jwst_time1 = Time(JWST_TIME1, format='isot', scale='utc')\n",
    "jwst_time2 = Time(JWST_TIME2, format='isot', scale='utc')\n",
    "jwst_time = Time(JWST_TIME, format='isot', scale='utc')"
   ]
  },
  {
   "cell_type": "markdown",
   "metadata": {},
   "source": [
    "## Reference coordinates for R Aqr and offset star\n",
    "This notebook provides two sets of coordinates for R Aqr (since the target had been observed twice), and the Gaia DR3 Coodinates of the offset star. The most recent set is the one actually used to calculate the updated coordinates at the time of the JWST observation. The earlier set of coordinates is used to test that the routine work properly (by using them as reference coordinates and checking that the result matches)."
   ]
  },
  {
   "cell_type": "code",
   "execution_count": 46,
   "metadata": {},
   "outputs": [
    {
     "name": "stdout",
     "output_type": "stream",
     "text": [
      "<SkyCoord (ICRS): (ra, dec, distance) in (deg, deg, pc)\n",
      "    (355.956255, -15.28466778, 385.63881069)\n",
      " (pm_ra_cosdec, pm_dec) in mas / yr\n",
      "    (27.33, -30.37)>\n"
     ]
    }
   ],
   "source": [
    "# R Aqr coordinates set 1\n",
    "RA = '23:43:49.50120 hours'     # RA in sexagesimal format (ICRS)\n",
    "DEC = '-15:17:04.804 degrees'   # DEC in sexagesimal format (ICRS) \n",
    "PMRA = 27.33                    # Proper motion in RA (mas/yr)\n",
    "PMDEC = -30.37                  # Proper motion in DEC (mas/yr)\n",
    "PARALLAX = 2.5931               # Parallax (mas)\n",
    "OBS_DATE = '2020-10-01'         # Observation date\n",
    "EPOCH = 2000.0                  # Reference epoch\n",
    "FRAME = 'icrs'                  # Coordinate frame\n",
    "\n",
    "# Create Skycoord object with the given coordinates\n",
    "r_aqr1 = SkyCoord(RA,\n",
    "                  DEC,\n",
    "                  pm_ra_cosdec=PMRA*u.mas/u.yr,\n",
    "                  pm_dec=PMDEC*u.mas/u.yr,\n",
    "                  distance=Distance(parallax=PARALLAX*u.mas),\n",
    "                  equinox=Time(EPOCH, format='jyear'),\n",
    "                  obstime=Time(OBS_DATE, format='iso', scale='utc'),\n",
    "                  frame=FRAME\n",
    "                 )\n",
    "print(r_aqr1)"
   ]
  },
  {
   "cell_type": "code",
   "execution_count": 45,
   "metadata": {},
   "outputs": [
    {
     "name": "stdout",
     "output_type": "stream",
     "text": [
      "<SkyCoord (ICRS): (ra, dec, distance) in (deg, deg, pc)\n",
      "    (355.95628271, -15.2846975, 385.63881069)\n",
      " (pm_ra_cosdec, pm_dec) in mas / yr\n",
      "    (27.33, -30.37)>\n"
     ]
    }
   ],
   "source": [
    "# R Aqr coordinates set 2\n",
    "RA = '23:43:49.50785 hours'     # RA in sexagesimal format (ICRS)\n",
    "DEC = '-15:17:04.911 degrees'   # DEC in sexagesimal format (ICRS) \n",
    "PMRA = 27.33                    # Proper motion in RA (mas/yr)\n",
    "PMDEC = -30.37                  # Proper motion in DEC (mas/yr)\n",
    "PARALLAX = 2.5931               # Parallax (mas)\n",
    "OBS_DATE = '2024-04-07'         # Observation date\n",
    "EPOCH = 2000.0                  # Reference epoch\n",
    "FRAME = 'icrs'                  # Coordinate frame\n",
    "\n",
    "# Create Skycoord object with the given coordinates\n",
    "r_aqr2 = SkyCoord(RA,\n",
    "                  DEC,\n",
    "                  pm_ra_cosdec=PMRA*u.mas/u.yr,\n",
    "                  pm_dec=PMDEC*u.mas/u.yr,\n",
    "                  distance=Distance(parallax=PARALLAX*u.mas),\n",
    "                  equinox=Time(EPOCH, format='jyear'),\n",
    "                  obstime=Time(OBS_DATE, format='iso', scale='utc'),\n",
    "                  frame=FRAME\n",
    "                 )\n",
    "print(r_aqr2)"
   ]
  },
  {
   "cell_type": "code",
   "execution_count": 44,
   "metadata": {},
   "outputs": [
    {
     "name": "stdout",
     "output_type": "stream",
     "text": [
      "<SkyCoord (ICRS): (ra, dec) in deg\n",
      "    (355.94560364, -15.27457775)\n",
      " (pm_ra_cosdec, pm_dec) in mas / yr\n",
      "    (-2.70869098, -4.08098586)>\n"
     ]
    }
   ],
   "source": [
    "# Gaia DR3 2419576423272148480 coordinates\n",
    "RA = '355.94560363551375 degrees'    # RA in decimal degrees (ICRS)\n",
    "DEC = '-15.274577751934695 degrees'  # DEC in decimal degrees (ICRS) \n",
    "PMRA = -2.708690975158548            # Proper motion in RA (mas/yr)\n",
    "PMDEC = -4.0809858570655875          # Proper motion in DEC (mas/yr)\n",
    "OBS_DATE = 2016.0                    # Observation date\n",
    "EPOCH = 2016.0                       # Reference epoch\n",
    "FRAME = 'icrs'                       # Coordinate frame\n",
    "\n",
    "# Create Skycoord object with the given coordinates\n",
    "acqt = SkyCoord(RA,\n",
    "                DEC,\n",
    "                pm_ra_cosdec=PMRA*u.mas/u.yr,\n",
    "                pm_dec=PMDEC*u.mas/u.yr,\n",
    "                equinox=Time(EPOCH, format='jyear'),\n",
    "                obstime=Time(OBS_DATE, format='jyear', scale='tcb'),\n",
    "                frame=FRAME\n",
    "            )\n",
    "print(acqt)"
   ]
  }
 ],
 "metadata": {
  "kernelspec": {
   "display_name": "Astro",
   "language": "python",
   "name": "python3"
  },
  "language_info": {
   "codemirror_mode": {
    "name": "ipython",
    "version": 3
   },
   "file_extension": ".py",
   "mimetype": "text/x-python",
   "name": "python",
   "nbconvert_exporter": "python",
   "pygments_lexer": "ipython3",
   "version": "3.11.4"
  }
 },
 "nbformat": 4,
 "nbformat_minor": 2
}
