{
 "cells": [
  {
   "cell_type": "markdown",
   "metadata": {},
   "source": [
    "# Offsets calculations for full APT sequence\n",
    "Calculations of X,Y offset for full APT sequence of R Aqr (two rolls) and PSF star"
   ]
  },
  {
   "cell_type": "code",
   "execution_count": 1,
   "metadata": {},
   "outputs": [],
   "source": [
    "# Set up autoloader\n",
    "%load_ext autoreload\n",
    "%autoreload 2"
   ]
  },
  {
   "cell_type": "code",
   "execution_count": 192,
   "metadata": {},
   "outputs": [],
   "source": [
    "# Set up modules and stuff\n",
    "import numpy as np\n",
    "import astropy.units as u\n",
    "import compute_offsets as coff\n",
    "import webbpsf as wp\n",
    "from astropy.time import Time\n",
    "from astropy.coordinates import SkyCoord, Distance\n",
    "import pysiaf\n",
    "from pysiaf import Siaf"
   ]
  },
  {
   "cell_type": "markdown",
   "metadata": {},
   "source": [
    "## JWST Parameters\n",
    "Desired roll angles, coronagraphic masks and desired visits start times."
   ]
  },
  {
   "cell_type": "code",
   "execution_count": 193,
   "metadata": {},
   "outputs": [],
   "source": [
    "# JWST PA angle of the telescope V3 axis at time of observation\n",
    "# V3PA range found in APT -> Visit Planner -> Reports -> Visit -> Total Roll\n",
    "V3PA_TIME_R1 = 55.000 # V3PA at the JWST observing time (roll 1)\n",
    "V3PA_TIME_R2 = 63.000 # V3PA at the JWST observing time (roll 2)\n",
    "\n",
    "# Coronographic mask ids\n",
    "CORON_ID_A = '1140' # ID for first coronagraphic observation\n",
    "CORON_ID_B = '1550' # ID for second coronagraphic observation"
   ]
  },
  {
   "cell_type": "markdown",
   "metadata": {},
   "source": [
    "### Observation times for sequence calculation\n",
    "The whole program is to be executed as an uninterruptible sequence. The time of the first visit is given in ATP as a \"Between Dates\" with the range of 1 hour; here is set in the middle of that time interval. The time of each following visit is calculated by adding the duration of the previous visit, ad given by the timeline in APT. All visits fits in the same day.\n",
    "\n",
    "This is the start time, and duration, of each visit:\n",
    "```\n",
    "F1140C_R1:  time 00:30:00:000 ; duration 4200 sec = 01:10:00 hh:mm:ss\n",
    "F1140C_R2:  time 01:40:00:000 ; duration 3000 sec = 00:50:00 hh:mm:ss\n",
    "F1140C_REF: time 02:30:00:000 ; duration 6000 sec = 01:40:00 hh:mm:ss\n",
    "F1150C_REF: time 04:10:00:000 ; duration 5100 sec = 01:25:00 hh:mm:ss\n",
    "F1150C_R1:  time 05:35:00:000 ; duration 3100 sec = 00:52:00 hh:mm:ss\n",
    "F1150C_R2:  time 06:27:00:000 ; duration 3100 sec = 00:52:00 hh:mm:ss\n",
    "```\n",
    "\n",
    "Need to check that all dates are UTC, and if it is necessary to have the time constraints as \"After date\" insted as uninterruptible sequence (as for alpha Cen). The after date constraint, however, could make the observations longer than the allotted time (by as much as 0.5 hour?)"
   ]
  },
  {
   "cell_type": "code",
   "execution_count": 194,
   "metadata": {},
   "outputs": [],
   "source": [
    "# JWST dates and times\n",
    "TIME_F1140C_R1 =  '2024-11-14T00:30:00.000'    # Begin R Aqr Roll 1, 11.4 um\n",
    "TIME_F1140C_R2 =  '2024-11-14T01:40:00.000'    # Begin R Aqr Roll 2, 11.4 um\n",
    "TIME_F1140C_REF = '2024-11-14T02:30:00.000'    # Begin T Cet, 11.4 um\n",
    "TIME_F155OC_REF = '2024-11-14T04:10:00.000'    # Begin T Cet, 15.5 um\n",
    "TIME_F1550C_R1 =  '2024-11-14T05:35:00.000'    # Begin R Aqr Roll 1, 15.5 um\n",
    "TIME_F1550C_R2 =  '2024-11-14T06:27:00.000'    # Begin R Aqr Roll 2, 15.5 um\n",
    "\n",
    "# Create Time-like objects with the JWST times\n",
    "time_f1140c_r1 =  Time(TIME_F1140C_R1, format='isot', scale='utc')\n",
    "time_f1140c_r2 =  Time(TIME_F1140C_R2, format='isot', scale='utc')\n",
    "time_f1140c_ref = Time(TIME_F1140C_REF, format='isot', scale='utc')\n",
    "time_f1550c_ref = Time(TIME_F155OC_REF, format='isot', scale='utc')\n",
    "time_f1550c_r1 =  Time(TIME_F1550C_R1, format='isot', scale='utc')\n",
    "time_f1550c_r2 =  Time(TIME_F1550C_R2, format='isot', scale='utc')"
   ]
  },
  {
   "cell_type": "markdown",
   "metadata": {},
   "source": [
    "## Reference coordinates for all targets\n",
    "We provide the most recent set of coordinates and proper motion for R Aqr based on our VLBI observations. The acquisition stars coordinates and the coordinates for chi Cet are from Gaia DR3."
   ]
  },
  {
   "cell_type": "markdown",
   "metadata": {},
   "source": [
    "### R Aqr astrometry"
   ]
  },
  {
   "cell_type": "code",
   "execution_count": 195,
   "metadata": {},
   "outputs": [],
   "source": [
    "# R Aqr VLBI coordinates and proper motion\n",
    "# This is the science target\n",
    "RA = '23:43:49.50785 hours'     # RA in sexagesimal format (ICRS)\n",
    "DEC = '-15:17:04.911 degrees'   # DEC in sexagesimal format (ICRS) \n",
    "PMRA = 27.33                    # Proper motion in RA (mas/yr)\n",
    "PMDEC = -30.37                  # Proper motion in DEC (mas/yr)\n",
    "PARALLAX = 4.59                 # Adriantsaralaza et al. 2022 parallax (mas)\n",
    "OBS_DATE = '2024-04-07'         # Observation date\n",
    "EPOCH = 2000.0                  # Reference epoch\n",
    "FRAME = 'icrs'                  # Coordinate frame\n",
    "\n",
    "# Create Skycoord object with the given coordinates\n",
    "r_aqr = SkyCoord(RA,\n",
    "                 DEC,\n",
    "                 pm_ra_cosdec=PMRA*u.mas/u.yr,\n",
    "                 pm_dec=PMDEC*u.mas/u.yr,\n",
    "                 distance=Distance(parallax=PARALLAX*u.mas),\n",
    "                 equinox=Time(EPOCH, format='jyear'),\n",
    "                 obstime=Time(OBS_DATE, format='iso', scale='utc'),\n",
    "                 frame=FRAME\n",
    "                )"
   ]
  },
  {
   "cell_type": "markdown",
   "metadata": {},
   "source": [
    "### R Aqr acquisition star astrometry"
   ]
  },
  {
   "cell_type": "code",
   "execution_count": 196,
   "metadata": {},
   "outputs": [],
   "source": [
    "# Gaia DR3 2419576255768131328 coordinates\n",
    "# This is the target acquisition star for the R Aqr observations\n",
    "# The source has G = 19.4 and bp-rp = 3.11 : M4V according to\n",
    "# https://www.pas.rochester.edu/~emamajek/EEM_dwarf_UBVIJHK_colors_Teff.txt\n",
    "\n",
    "RA = '355.9498781532638 degrees'     # RA in decimal degrees (ICRS)\n",
    "DEC = '-15.283947951921947 degrees'  # DEC in decimal degrees (ICRS) \n",
    "PMRA = 20.269224605443817            # Proper motion in RA (mas/yr)\n",
    "PMDEC = -11.812614959581758          # Proper motion in DEC (mas/yr)\n",
    "PARALLAX = 3.7063351210713535        # Gaia DR3 Parallax (mas)\n",
    "OBS_DATE = 2016.0                    # Observation date\n",
    "EPOCH = 2016.0                       # Reference epoch\n",
    "FRAME = 'icrs'                       # Coordinate frame\n",
    "\n",
    "# Create Skycoord object with the given coordinates\n",
    "a_r_aqr = SkyCoord(RA,\n",
    "                   DEC,\n",
    "                   pm_ra_cosdec=PMRA*u.mas/u.yr,\n",
    "                   pm_dec=PMDEC*u.mas/u.yr,\n",
    "                   distance=Distance(parallax=PARALLAX*u.mas),\n",
    "                   equinox=Time(EPOCH, format='jyear'),\n",
    "                   obstime=Time(OBS_DATE, format='jyear', scale='tcb'),\n",
    "                   frame=FRAME\n",
    "                  )"
   ]
  },
  {
   "cell_type": "markdown",
   "metadata": {},
   "source": [
    "### Chi Aqr (PSF reference) astrometry"
   ]
  },
  {
   "cell_type": "code",
   "execution_count": 197,
   "metadata": {},
   "outputs": [],
   "source": [
    "# chi Aqr coordinates (Gaia DR3)\n",
    "# This is the PSF reference star\n",
    "RA = '349.2121666360522 degrees'     # RA in decimal degrees (ICRS)\n",
    "DEC = '-7.7265601174932055 degrees'  # DEC in decimal degrees (ICRS) \n",
    "PMRA = -17.720811365972143           # Proper motion in RA (mas/yr)\n",
    "PMDEC = -13.676336237987579          # Proper motion in DEC (mas/yr)\n",
    "PARALLAX = 6.161173380222363         # Gaia DR3 Parallax (mas)\n",
    "OBS_DATE = 2016.0                    # Observation date\n",
    "EPOCH = 2016.0                       # Reference epoch\n",
    "FRAME = 'icrs'                       # Coordinate frame\n",
    "\n",
    "# Create Skycoord object with the given coordinates\n",
    "c_aqr = SkyCoord(RA,\n",
    "                 DEC,\n",
    "                 pm_ra_cosdec=PMRA*u.mas/u.yr,\n",
    "                 pm_dec=PMDEC*u.mas/u.yr,\n",
    "                 distance=Distance(parallax=PARALLAX*u.mas),\n",
    "                 equinox=Time(EPOCH, format='jyear'),\n",
    "                 obstime=Time(OBS_DATE, format='jyear', scale='tcb'),\n",
    "                 frame=FRAME\n",
    "                )"
   ]
  },
  {
   "cell_type": "markdown",
   "metadata": {},
   "source": [
    "### Chi Aqr acquisition star astrometry"
   ]
  },
  {
   "cell_type": "code",
   "execution_count": 198,
   "metadata": {},
   "outputs": [],
   "source": [
    "# Gaia DR3 2630576351069481088 coordinates\n",
    "# This is the target acquisition star for the chi Aqr observations\n",
    "# The source has G = 18.9 and bp-rp = 1.66 : K7V according to\n",
    "# https://www.pas.rochester.edu/~emamajek/EEM_dwarf_UBVIJHK_colors_Teff.txt\n",
    "\n",
    "RA = '349.2107023418036 degrees'     # RA in decimal degrees (ICRS)\n",
    "DEC = '-7.718557169510248 degrees'   # DEC in decimal degrees (ICRS) \n",
    "PMRA = 2.7933311354700763            # Proper motion in RA (mas/yr)\n",
    "PMDEC = -11.06568676574391           # Proper motion in DEC (mas/yr)\n",
    "PARALLAX = 0.935161266446918         # Gaia DR3 Parallax (mas)\n",
    "OBS_DATE = 2016.0                    # Observation date\n",
    "EPOCH = 2016.0                       # Reference epoch\n",
    "FRAME = 'icrs'                       # Coordinate frame\n",
    "\n",
    "# Create Skycoord object with the given coordinates\n",
    "a_c_aqr = SkyCoord(RA,\n",
    "                   DEC,\n",
    "                   pm_ra_cosdec=PMRA*u.mas/u.yr,\n",
    "                   pm_dec=PMDEC*u.mas/u.yr,\n",
    "                   distance=Distance(parallax=PARALLAX*u.mas),\n",
    "                   equinox=Time(EPOCH, format='jyear'),\n",
    "                   obstime=Time(OBS_DATE, format='jyear', scale='tcb'),\n",
    "                   frame=FRAME\n",
    "                  )"
   ]
  },
  {
   "cell_type": "markdown",
   "metadata": {},
   "source": [
    "## Update coordinates for all targets\n",
    "Calculate updated positions for all targets (and acquisition stars) for the start time of each visit in qhich they are observed. For each visit check what is the offset between the acquisition star and the science target. For calculations, use the apply_space_motion() method of the SkyCoord package. "
   ]
  },
  {
   "cell_type": "markdown",
   "metadata": {},
   "source": [
    "### Visit 1: F1140C R1 (R Aqr Roll 1)"
   ]
  },
  {
   "cell_type": "code",
   "execution_count": 199,
   "metadata": {},
   "outputs": [],
   "source": [
    "# Update R Aqr coordinates\n",
    "r_aqr_f1140c_r1 = r_aqr.apply_space_motion(new_obstime=time_f1140c_r1)\n",
    "\n",
    "# Update R Aqr acquisition star coordinates\n",
    "a_r_aqr_f1140c_r1 = a_r_aqr.apply_space_motion(new_obstime=time_f1140c_r1)"
   ]
  },
  {
   "cell_type": "markdown",
   "metadata": {},
   "source": [
    "### Visit 2: F1140C R2 (R Aqr Roll 2)"
   ]
  },
  {
   "cell_type": "code",
   "execution_count": 200,
   "metadata": {},
   "outputs": [],
   "source": [
    "# Update R Aqr coordinates\n",
    "r_aqr_f1140c_r2 = r_aqr.apply_space_motion(new_obstime=time_f1140c_r2)\n",
    "\n",
    "# Update R Aqr acquisition star coordinates\n",
    "a_r_aqr_f1140c_r2 = a_r_aqr.apply_space_motion(new_obstime=time_f1140c_r2)"
   ]
  },
  {
   "cell_type": "markdown",
   "metadata": {},
   "source": [
    "### Visit 3: F1140C REF (chi Aqr)"
   ]
  },
  {
   "cell_type": "code",
   "execution_count": 201,
   "metadata": {},
   "outputs": [],
   "source": [
    "# Update chi Aqr coordinates\n",
    "c_aqr_f1140c_ref = c_aqr.apply_space_motion(new_obstime=time_f1140c_ref)\n",
    "\n",
    "# Update chi Aqr acquisition star coordinates\n",
    "a_c_aqr_f1140c_ref = a_c_aqr.apply_space_motion(new_obstime=time_f1140c_ref)"
   ]
  },
  {
   "cell_type": "markdown",
   "metadata": {},
   "source": [
    "### Visit 4: F1550C REF (chi Aqr)"
   ]
  },
  {
   "cell_type": "code",
   "execution_count": 202,
   "metadata": {},
   "outputs": [],
   "source": [
    "# Update chi Aqr coordinates\n",
    "c_aqr_f1550c_ref = c_aqr.apply_space_motion(new_obstime=time_f1550c_ref)\n",
    "\n",
    "# Update chi Aqr acquisition star coordinates\n",
    "a_c_aqr_f1550c_ref = a_c_aqr.apply_space_motion(new_obstime=time_f1550c_ref)"
   ]
  },
  {
   "cell_type": "markdown",
   "metadata": {},
   "source": [
    "### Visit 5: F1550C R1 (R Aqr Roll 1)"
   ]
  },
  {
   "cell_type": "code",
   "execution_count": 203,
   "metadata": {},
   "outputs": [],
   "source": [
    "# Update R Aqr coordinates\n",
    "r_aqr_f1550c_r1 = r_aqr.apply_space_motion(new_obstime=time_f1550c_r1)\n",
    "\n",
    "# Update R Aqr acquisition star coordinates\n",
    "a_r_aqr_f1550c_r1 = a_r_aqr.apply_space_motion(new_obstime=time_f1550c_r1)"
   ]
  },
  {
   "cell_type": "markdown",
   "metadata": {},
   "source": [
    "### Visit 6: F1550C R2 (R Aqr Roll 2)"
   ]
  },
  {
   "cell_type": "code",
   "execution_count": 204,
   "metadata": {},
   "outputs": [],
   "source": [
    "# Update R Aqr coordinates\n",
    "r_aqr_f1550c_r2 = r_aqr.apply_space_motion(new_obstime=time_f1550c_r2)\n",
    "\n",
    "# Update R Aqr acquisition star coordinates\n",
    "a_r_aqr_f1550c_r2 = a_r_aqr.apply_space_motion(new_obstime=time_f1550c_r2)"
   ]
  },
  {
   "cell_type": "markdown",
   "metadata": {},
   "source": [
    "### Calculate all offsets between the targets and their acquisition star"
   ]
  },
  {
   "cell_type": "code",
   "execution_count": 205,
   "metadata": {},
   "outputs": [
    {
     "name": "stdout",
     "output_type": "stream",
     "text": [
      "--> Offsets between each target and its acquisition star:\n",
      "--> Offset for visit F1140C Roll 1: 22.231619 arcsec\n",
      "--> Offset for visit F1140C Roll 2: 22.231620 arcsec\n",
      "--> Offset for visit F1140C REF:    29.271230 arcsec\n",
      "--> Offset for visit F1550C REF:    29.271229 arcsec\n",
      "--> Offset for visit F1550C Roll 1: 22.231625 arcsec\n",
      "--> Offset for visit F1550C Roll 2: 22.231625 arcsec\n"
     ]
    }
   ],
   "source": [
    "# Calculate offsets for each visit\n",
    "offset_f1140c_r1 = a_r_aqr_f1140c_r1.separation(r_aqr_f1140c_r1).to(u.arcsec)\n",
    "offset_f1140c_r2 = a_r_aqr_f1140c_r2.separation(r_aqr_f1140c_r2).to(u.arcsec)\n",
    "offset_f1140c_ref = a_c_aqr_f1140c_ref.separation(c_aqr_f1140c_ref).to(u.arcsec)\n",
    "offset_f1550c_ref = a_c_aqr_f1550c_ref.separation(c_aqr_f1550c_ref).to(u.arcsec)\n",
    "offset_f1550c_r1 = a_r_aqr_f1550c_r1.separation(r_aqr_f1550c_r1).to(u.arcsec)\n",
    "offset_f1550c_r2 = a_r_aqr_f1550c_r2.separation(r_aqr_f1550c_r2).to(u.arcsec)\n",
    "\n",
    "# Print all offsets\n",
    "print('--> Offsets between each target and its acquisition star:')\n",
    "print(f'--> Offset for visit F1140C Roll 1: {offset_f1140c_r1:.6f}')\n",
    "print(f'--> Offset for visit F1140C Roll 2: {offset_f1140c_r2:.6f}')\n",
    "print(f'--> Offset for visit F1140C REF:    {offset_f1140c_ref:.6f}')\n",
    "print(f'--> Offset for visit F1550C REF:    {offset_f1550c_ref:.6f}')\n",
    "print(f'--> Offset for visit F1550C Roll 1: {offset_f1550c_r1:.6f}')\n",
    "print(f'--> Offset for visit F1550C Roll 2: {offset_f1550c_r2:.6f}')"
   ]
  },
  {
   "cell_type": "markdown",
   "metadata": {},
   "source": [
    "## Calculate APT offset for target acquisition\n",
    "Uses the compute_offsets() script to calculate the X and y offset needed in APT to perform the target acquisition in offset from the acquisition star. This needs to be done for all visits (select correct time, and correct coronagraph). "
   ]
  },
  {
   "cell_type": "code",
   "execution_count": 206,
   "metadata": {},
   "outputs": [],
   "source": [
    "# Decide if plotting or not\n",
    "SHOW_PLOTS = False\n",
    "PLOT_FULL = True"
   ]
  },
  {
   "cell_type": "markdown",
   "metadata": {},
   "source": [
    "### Visit 1: F1140C R1 (R Aqr Roll 1)"
   ]
  },
  {
   "cell_type": "code",
   "execution_count": 207,
   "metadata": {},
   "outputs": [],
   "source": [
    "# Convert coordinates to degrees\n",
    "T_RA = r_aqr_f1140c_r1.ra.deg\n",
    "A_RA = a_r_aqr_f1140c_r1.ra.deg\n",
    "T_DEC = r_aqr_f1140c_r1.dec.deg\n",
    "A_DEC = a_r_aqr_f1140c_r1.dec.deg\n",
    "\n",
    "# Setup initial and final slew coordinates for time of visit\n",
    "slew_to_f1140c_r1 = {'label': 'R Aqr', \n",
    "                     'position': SkyCoord(T_RA, T_DEC, unit='deg', frame='icrs')\n",
    "                    }\n",
    "slew_fr_f1140c_r1 = {'label': 'Gaia Star', \n",
    "                     'position': SkyCoord(A_RA, A_DEC, unit='deg', frame='icrs')\n",
    "                    }\n",
    "\n",
    "# Calculate offsets for 4QPM 11.4 um mask at JWST observing time (roll 1)\n",
    "dx, dy = coff.compute_offsets(slew_fr_f1140c_r1,\n",
    "                              slew_to_f1140c_r1,\n",
    "                              V3PA_TIME_R1,\n",
    "                              CORON_ID_A,\n",
    "                              verbose = False,\n",
    "                              show_plots = SHOW_PLOTS,\n",
    "                              plot_full = PLOT_FULL,\n",
    "                              return_offsets = True\n",
    "                              )\n",
    "\n",
    "# Save offsets for posterity\n",
    "dx_f1140c_r1 = dx\n",
    "dy_f1140c_r1 = dy"
   ]
  },
  {
   "cell_type": "markdown",
   "metadata": {},
   "source": [
    "### Visit 2: F1140C R2 (R Aqr Roll 2)"
   ]
  },
  {
   "cell_type": "code",
   "execution_count": 208,
   "metadata": {},
   "outputs": [],
   "source": [
    "# Convert coordinates to degrees\n",
    "T_RA = r_aqr_f1140c_r2.ra.deg\n",
    "A_RA = a_r_aqr_f1140c_r2.ra.deg\n",
    "T_DEC = r_aqr_f1140c_r2.dec.deg\n",
    "A_DEC = a_r_aqr_f1140c_r2.dec.deg\n",
    "\n",
    "# Setup initial and final slew coordinates for time of visit\n",
    "slew_to_f1140c_r2 = {'label': 'R Aqr', \n",
    "                     'position': SkyCoord(T_RA, T_DEC, unit='deg', frame='icrs')\n",
    "                    }\n",
    "slew_fr_f1140c_r2 = {'label': 'Gaia Star', \n",
    "                     'position': SkyCoord(A_RA, A_DEC, unit='deg', frame='icrs')\n",
    "                    }\n",
    "\n",
    "# Calculate offsets for 4QPM 11.4 um mask at JWST observing time (roll 1)\n",
    "dx, dy = coff.compute_offsets(slew_fr_f1140c_r2,\n",
    "                              slew_to_f1140c_r2,\n",
    "                              V3PA_TIME_R2,\n",
    "                              CORON_ID_A,\n",
    "                              verbose = False,\n",
    "                              show_plots = SHOW_PLOTS,\n",
    "                              plot_full = PLOT_FULL,\n",
    "                              return_offsets = True\n",
    "                              )\n",
    "\n",
    "# Save offsets for posterity\n",
    "dx_f1140c_r2 = dx\n",
    "dy_f1140c_r2 = dy"
   ]
  },
  {
   "cell_type": "markdown",
   "metadata": {},
   "source": [
    "### Visit 3: F1140C REF (chi Aqr)"
   ]
  },
  {
   "cell_type": "code",
   "execution_count": 209,
   "metadata": {},
   "outputs": [],
   "source": [
    "# Convert coordinates to degrees\n",
    "T_RA = c_aqr_f1140c_ref.ra.deg\n",
    "A_RA = a_c_aqr_f1140c_ref.ra.deg\n",
    "T_DEC = c_aqr_f1140c_ref.dec.deg\n",
    "A_DEC = a_c_aqr_f1140c_ref.dec.deg\n",
    "\n",
    "# Setup initial and final slew coordinates for time of visit\n",
    "slew_to_f1140c_ref = {'label': 'chi Aqr', \n",
    "                      'position': SkyCoord(T_RA, T_DEC, unit='deg', frame='icrs')\n",
    "                     }\n",
    "slew_fr_f1140c_ref = {'label': 'Gaia Star', \n",
    "                      'position': SkyCoord(A_RA, A_DEC, unit='deg', frame='icrs')\n",
    "                     }\n",
    "\n",
    "# Calculate offsets for 4QPM 11.4 um mask at JWST observing time (roll 1)\n",
    "dx, dy = coff.compute_offsets(slew_fr_f1140c_ref,\n",
    "                              slew_to_f1140c_ref,\n",
    "                              V3PA_TIME_R1,\n",
    "                              CORON_ID_A,\n",
    "                              verbose = False,\n",
    "                              show_plots = SHOW_PLOTS,\n",
    "                              plot_full = PLOT_FULL,\n",
    "                              return_offsets = True\n",
    "                              )\n",
    "\n",
    "# Save offsets for posterity\n",
    "dx_f1140c_ref = dx\n",
    "dy_f1140c_ref = dy"
   ]
  },
  {
   "cell_type": "markdown",
   "metadata": {},
   "source": [
    "### Visit 4: F1550C REF (chi Aqr)"
   ]
  },
  {
   "cell_type": "code",
   "execution_count": 210,
   "metadata": {},
   "outputs": [],
   "source": [
    "# Convert coordinates to degrees\n",
    "T_RA = c_aqr_f1550c_ref.ra.deg\n",
    "A_RA = a_c_aqr_f1550c_ref.ra.deg\n",
    "T_DEC = c_aqr_f1550c_ref.dec.deg\n",
    "A_DEC = a_c_aqr_f1550c_ref.dec.deg\n",
    "\n",
    "# Setup initial and final slew coordinates for time of visit\n",
    "slew_to_f1550c_ref = {'label': 'chi Aqr', \n",
    "                      'position': SkyCoord(T_RA, T_DEC, unit='deg', frame='icrs')\n",
    "                     }\n",
    "slew_fr_f1550c_ref = {'label': 'Gaia Star', \n",
    "                      'position': SkyCoord(A_RA, A_DEC, unit='deg', frame='icrs')\n",
    "                     }\n",
    "\n",
    "# Calculate offsets for 4QPM 11.4 um mask at JWST observing time (roll 1)\n",
    "dx, dy = coff.compute_offsets(slew_fr_f1550c_ref,\n",
    "                              slew_to_f1550c_ref,\n",
    "                              V3PA_TIME_R1,\n",
    "                              CORON_ID_B,\n",
    "                              verbose = False,\n",
    "                              show_plots = SHOW_PLOTS,\n",
    "                              plot_full = PLOT_FULL,\n",
    "                              return_offsets = True\n",
    "                              )\n",
    "\n",
    "# Save offsets for posterity\n",
    "dx_f1550c_ref = dx\n",
    "dy_f1550c_ref = dy"
   ]
  },
  {
   "cell_type": "markdown",
   "metadata": {},
   "source": [
    "### Visit 5: F1550C R1 (R Aqr Roll 1)"
   ]
  },
  {
   "cell_type": "code",
   "execution_count": 211,
   "metadata": {},
   "outputs": [],
   "source": [
    "# Convert coordinates to degrees\n",
    "T_RA = r_aqr_f1550c_r1.ra.deg\n",
    "A_RA = a_r_aqr_f1550c_r1.ra.deg\n",
    "T_DEC = r_aqr_f1550c_r1.dec.deg\n",
    "A_DEC = a_r_aqr_f1550c_r1.dec.deg\n",
    "\n",
    "# Setup initial and final slew coordinates for time of visit\n",
    "slew_to_f1550c_r1 = {'label': 'R Aqr', \n",
    "                     'position': SkyCoord(T_RA, T_DEC, unit='deg', frame='icrs')\n",
    "                    }\n",
    "slew_fr_f1550c_r1 = {'label': 'Gaia Star', \n",
    "                     'position': SkyCoord(A_RA, A_DEC, unit='deg', frame='icrs')\n",
    "                    }\n",
    "\n",
    "# Calculate offsets for 4QPM 11.4 um mask at JWST observing time (roll 1)\n",
    "dx, dy = coff.compute_offsets(slew_fr_f1550c_r1,\n",
    "                              slew_to_f1550c_r1,\n",
    "                              V3PA_TIME_R1,\n",
    "                              CORON_ID_B,\n",
    "                              verbose = False,\n",
    "                              show_plots = SHOW_PLOTS,\n",
    "                              plot_full = PLOT_FULL,\n",
    "                              return_offsets = True\n",
    "                              )\n",
    "\n",
    "# Save offsets for posterity\n",
    "dx_f1550c_r1 = dx\n",
    "dy_f1550c_r1 = dy"
   ]
  },
  {
   "cell_type": "markdown",
   "metadata": {},
   "source": [
    "### Visit 5: F1550C R2 (R Aqr Roll 1)"
   ]
  },
  {
   "cell_type": "code",
   "execution_count": 212,
   "metadata": {},
   "outputs": [],
   "source": [
    "# Convert coordinates to degrees\n",
    "T_RA = r_aqr_f1550c_r2.ra.deg\n",
    "A_RA = a_r_aqr_f1550c_r2.ra.deg\n",
    "T_DEC = r_aqr_f1550c_r2.dec.deg\n",
    "A_DEC = a_r_aqr_f1550c_r2.dec.deg\n",
    "\n",
    "# Setup initial and final slew coordinates for time of visit\n",
    "slew_to_f1550c_r2 = {'label': 'R Aqr', \n",
    "                     'position': SkyCoord(T_RA, T_DEC, unit='deg', frame='icrs')\n",
    "                    }\n",
    "slew_fr_f1550c_r2 = {'label': 'Gaia Star', \n",
    "                     'position': SkyCoord(A_RA, A_DEC, unit='deg', frame='icrs')\n",
    "                    }\n",
    "\n",
    "# Calculate offsets for 4QPM 11.4 um mask at JWST observing time (roll 1)\n",
    "dx, dy = coff.compute_offsets(slew_fr_f1550c_r2,\n",
    "                              slew_to_f1550c_r2,\n",
    "                              V3PA_TIME_R2,\n",
    "                              CORON_ID_B,\n",
    "                              verbose = False,\n",
    "                              show_plots = SHOW_PLOTS,\n",
    "                              plot_full = PLOT_FULL,\n",
    "                              return_offsets = True\n",
    "                              )\n",
    "\n",
    "# Save offsets for posterity\n",
    "dx_f1550c_r2 = dx\n",
    "dy_f1550c_r2 = dy"
   ]
  },
  {
   "cell_type": "markdown",
   "metadata": {},
   "source": [
    "### Print table with all offsets"
   ]
  },
  {
   "cell_type": "code",
   "execution_count": 213,
   "metadata": {},
   "outputs": [
    {
     "name": "stdout",
     "output_type": "stream",
     "text": [
      "--> OFFSETS AND V3PA ANGLES FOR ALL VISITS:\n",
      "\n",
      "Visit       |      dx     |      dy     |  V3PA\n",
      "            |   (arcsec)  |   (arcsec)  |  (deg)\n",
      "----------------------------------------------------\n",
      "F1140C R1   | +13.3522551 | -17.7753468 | +55.00\n",
      "F1140C R2   | +10.7484607 | -19.4606289 | +63.00\n",
      "F1140C REF  | +27.4626801 | +10.1295981 | +55.00\n",
      "F1550C REF  | +27.4626726 | +10.1296024 | +55.00\n",
      "F1550C R1   | +13.3522633 | -17.7753446 | +55.00\n",
      "F1550C R2   | +10.7484690 | -19.4606284 | +63.00\n"
     ]
    }
   ],
   "source": [
    "# Print table with offsets and V3PA angles for all visits\n",
    "print('--> OFFSETS AND V3PA ANGLES FOR ALL VISITS:')\n",
    "print('')\n",
    "print('Visit       |      dx     |      dy     |  V3PA')\n",
    "print('            |   (arcsec)  |   (arcsec)  |  (deg)')\n",
    "print('----------------------------------------------------')\n",
    "print(f'F1140C R1   | {dx_f1140c_r1:+.7f} | {dy_f1140c_r1:+.7f} | '+\n",
    "      f'{V3PA_TIME_R1:+.2f}')\n",
    "print(f'F1140C R2   | {dx_f1140c_r2:+.7f} | {dy_f1140c_r2:+.7f} | '+\n",
    "        f'{V3PA_TIME_R2:+.2f}')\n",
    "print(f'F1140C REF  | {dx_f1140c_ref:+.7f} | {dy_f1140c_ref:+.7f} | '+\n",
    "        f'{V3PA_TIME_R1:+.2f}')\n",
    "print(f'F1550C REF  | {dx_f1550c_ref:+.7f} | {dy_f1550c_ref:+.7f} | '+\n",
    "        f'{V3PA_TIME_R1:+.2f}')\n",
    "print(f'F1550C R1   | {dx_f1550c_r1:+.7f} | {dy_f1550c_r1:+.7f} | '+\n",
    "        f'{V3PA_TIME_R1:+.2f}')\n",
    "print(f'F1550C R2   | {dx_f1550c_r2:+.7f} | {dy_f1550c_r2:+.7f} | '+\n",
    "        f'{V3PA_TIME_R2:+.2f}')\n"
   ]
  },
  {
   "cell_type": "markdown",
   "metadata": {},
   "source": [
    "## Calculate offsets in IDL coordinates for WebbPSF"
   ]
  },
  {
   "cell_type": "code",
   "execution_count": 256,
   "metadata": {},
   "outputs": [],
   "source": [
    "# Define MIRI apertures from Siaf database\n",
    "miri = Siaf(\"MIRI\")\n",
    "\n",
    "# Convert sky coordinates to IDL coordinates\n",
    "ta_f1140c_r1, sci_f1140c_r1 = \\\n",
    "    coff.sky_to_idl([{'label': 'TA Star', 'position': a_r_aqr_f1140c_r1},\n",
    "                     {'label': 'R Aqr', 'position': r_aqr_f1140c_r1}],\n",
    "                     miri[f'MIRIM_MASK{CORON_ID_A}'], V3PA_TIME_R1)\n",
    "ta_f1140c_r2, sci_f1140c_r2 = \\\n",
    "    coff.sky_to_idl([{'label': 'TA Star', 'position': a_r_aqr_f1140c_r2},\n",
    "                     {'label': 'R Aqr', 'position': r_aqr_f1140c_r2}],\n",
    "                     miri[f'MIRIM_MASK{CORON_ID_A}'], V3PA_TIME_R2)\n",
    "ta_f1140c_ref, sci_f1140c_ref = \\\n",
    "    coff.sky_to_idl([{'label': 'TA Star', 'position': a_c_aqr_f1140c_ref},\n",
    "                     {'label': 'chi Aqr', 'position': c_aqr_f1140c_ref}],\n",
    "                     miri[f'MIRIM_MASK{CORON_ID_A}'], V3PA_TIME_R1)\n",
    "ta_f1550c_ref, sci_f1550c_ref = \\\n",
    "    coff.sky_to_idl([{'label': 'TA Star', 'position': a_c_aqr_f1550c_ref},\n",
    "                     {'label': 'chi Aqr', 'position': c_aqr_f1550c_ref}],\n",
    "                     miri[f'MIRIM_MASK{CORON_ID_B}'], V3PA_TIME_R1)\n",
    "ta_f1550c_r1, sci_f1550c_r1 = \\\n",
    "    coff.sky_to_idl([{'label': 'TA Star', 'position': a_r_aqr_f1550c_r1},\n",
    "                     {'label': 'R Aqr', 'position': r_aqr_f1550c_r1}],\n",
    "                     miri[f'MIRIM_MASK{CORON_ID_B}'], V3PA_TIME_R1)\n",
    "ta_f1550c_r2, sci_f1550c_r2 = \\\n",
    "    coff.sky_to_idl([{'label': 'TA Star', 'position': a_r_aqr_f1550c_r2},\n",
    "                     {'label': 'R Aqr', 'position': r_aqr_f1550c_r2}],\n",
    "                     miri[f'MIRIM_MASK{CORON_ID_B}'], V3PA_TIME_R2)"
   ]
  },
  {
   "cell_type": "code",
   "execution_count": 257,
   "metadata": {},
   "outputs": [
    {
     "name": "stdout",
     "output_type": "stream",
     "text": [
      "--> IDL COORDINATES OF SCIENCE TARGETS FOR ALL VISITS:\n",
      "--> F1140C R1 SCI:  [-13.35225508  17.77534682]\n",
      "--> F1140C R2 SCI:  [-10.74846071  19.46062893]\n",
      "--> F1140C REF:     [-27.46268012 -10.12959811]\n",
      "--> F1550C REF:     [-27.46267259 -10.12960244]\n",
      "--> F1550C R1 SCI:  [-13.35226334  17.77534462]\n"
     ]
    },
    {
     "ename": "NameError",
     "evalue": "name 'sci_f1550c_r2' is not defined",
     "output_type": "error",
     "traceback": [
      "\u001b[0;31m---------------------------------------------------------------------------\u001b[0m",
      "\u001b[0;31mNameError\u001b[0m                                 Traceback (most recent call last)",
      "Cell \u001b[0;32mIn[257], line 8\u001b[0m\n\u001b[1;32m      6\u001b[0m \u001b[38;5;28mprint\u001b[39m(\u001b[38;5;124m'\u001b[39m\u001b[38;5;124m--> F1550C REF:    \u001b[39m\u001b[38;5;124m'\u001b[39m, sci_f1550c_ref[\u001b[38;5;124m'\u001b[39m\u001b[38;5;124mposition\u001b[39m\u001b[38;5;124m'\u001b[39m])\n\u001b[1;32m      7\u001b[0m \u001b[38;5;28mprint\u001b[39m(\u001b[38;5;124m'\u001b[39m\u001b[38;5;124m--> F1550C R1 SCI: \u001b[39m\u001b[38;5;124m'\u001b[39m, sci_f1550c_r1[\u001b[38;5;124m'\u001b[39m\u001b[38;5;124mposition\u001b[39m\u001b[38;5;124m'\u001b[39m])\n\u001b[0;32m----> 8\u001b[0m \u001b[38;5;28mprint\u001b[39m(\u001b[38;5;124m'\u001b[39m\u001b[38;5;124m--> F1550C R2 SCI: \u001b[39m\u001b[38;5;124m'\u001b[39m, \u001b[43msci_f1550c_r2\u001b[49m[\u001b[38;5;124m'\u001b[39m\u001b[38;5;124mposition\u001b[39m\u001b[38;5;124m'\u001b[39m])\n",
      "\u001b[0;31mNameError\u001b[0m: name 'sci_f1550c_r2' is not defined"
     ]
    }
   ],
   "source": [
    "# Print IDL coordinates of sci target for all visits\n",
    "print('--> IDL COORDINATES OF SCIENCE TARGETS FOR ALL VISITS:')\n",
    "print('--> F1140C R1 SCI: ', sci_f1140c_r1['position'])\n",
    "print('--> F1140C R2 SCI: ', sci_f1140c_r2['position'])\n",
    "print('--> F1140C REF:    ', sci_f1140c_ref['position'])\n",
    "print('--> F1550C REF:    ', sci_f1550c_ref['position'])\n",
    "print('--> F1550C R1 SCI: ', sci_f1550c_r1['position'])\n",
    "print('--> F1550C R2 SCI: ', sci_f1550c_r2['position'])"
   ]
  }
 ],
 "metadata": {
  "kernelspec": {
   "display_name": "JWSToff",
   "language": "python",
   "name": "python3"
  },
  "language_info": {
   "codemirror_mode": {
    "name": "ipython",
    "version": 3
   },
   "file_extension": ".py",
   "mimetype": "text/x-python",
   "name": "python",
   "nbconvert_exporter": "python",
   "pygments_lexer": "ipython3",
   "version": "3.9.19"
  }
 },
 "nbformat": 4,
 "nbformat_minor": 2
}
