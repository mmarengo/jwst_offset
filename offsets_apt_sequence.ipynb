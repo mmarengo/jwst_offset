{
 "cells": [
  {
   "cell_type": "markdown",
   "metadata": {},
   "source": [
    "# Offsets calculations for full APT sequence\n",
    "Calculations of X,Y offset for full APT sequence of R Aqr (two rolls) and PSF star"
   ]
  },
  {
   "cell_type": "code",
   "execution_count": 1,
   "metadata": {},
   "outputs": [],
   "source": [
    "# Set up autoloader\n",
    "%load_ext autoreload\n",
    "%autoreload 2"
   ]
  },
  {
   "cell_type": "code",
   "execution_count": 5,
   "metadata": {},
   "outputs": [],
   "source": [
    "# Set up modules and stuff\n",
    "import numpy as np\n",
    "import astropy.units as u\n",
    "import compute_offsets as coff\n",
    "from astropy.time import Time\n",
    "from astropy.coordinates import SkyCoord, Distance"
   ]
  }
 ],
 "metadata": {
  "kernelspec": {
   "display_name": "JWSToff",
   "language": "python",
   "name": "python3"
  },
  "language_info": {
   "codemirror_mode": {
    "name": "ipython",
    "version": 3
   },
   "file_extension": ".py",
   "mimetype": "text/x-python",
   "name": "python",
   "nbconvert_exporter": "python",
   "pygments_lexer": "ipython3",
   "version": "3.9.19"
  }
 },
 "nbformat": 4,
 "nbformat_minor": 2
}
